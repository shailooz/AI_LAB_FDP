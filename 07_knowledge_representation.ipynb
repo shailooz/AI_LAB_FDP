{
 "cells": [
  {
   "cell_type": "code",
   "execution_count": 2,
   "id": "28eefbb9",
   "metadata": {},
   "outputs": [],
   "source": [
    "import pytholog as pl"
   ]
  },
  {
   "cell_type": "code",
   "execution_count": 3,
   "id": "fbeb5cb1",
   "metadata": {},
   "outputs": [],
   "source": [
    "new_kb = pl.KnowledgeBase(\"flavor\")\n",
    "new_kb([\"likes(noor, sausage)\",\n",
    "        \"likes(melissa, pasta)\",\n",
    "        \"likes(dmitry, cookie)\",\n",
    "        \"likes(nikita, sausage)\",\n",
    "        \"likes(assel, limonade)\",\n",
    "        \"food_type(gouda, cheese)\",\n",
    "        \"food_type(ritz, cracker)\",\n",
    "        \"food_type(steak, meat)\",\n",
    "        \"food_type(sausage, meat)\",\n",
    "        \"food_type(limonade, juice)\",\n",
    "        \"food_type(mojito, juice)\",\n",
    "        \"food_type(cookie, dessert)\",\n",
    "        \"flavor(sweet, dessert)\",\n",
    "        \"flavor(savory, meat)\",\n",
    "        \"flavor(savory, cheese)\",\n",
    "        \"flavor(sweet, juice)\",\n",
    "        \"food_flavor(X, Y) :- food_type(X, Z), flavor(Y, Z)\",\n",
    "        \"dish_to_like(X, Y) :- likes(X, L), food_type(L, T), flavor(F, T), food_flavor(Y, F), neq(L, Y)\"])"
   ]
  },
  {
   "cell_type": "code",
   "execution_count": 4,
   "id": "4e8a8668",
   "metadata": {},
   "outputs": [
    {
     "data": {
      "text/plain": [
       "['Yes']"
      ]
     },
     "execution_count": 4,
     "metadata": {},
     "output_type": "execute_result"
    }
   ],
   "source": [
    "new_kb.query(pl.Expr(\"likes(noor, sausage)\"))"
   ]
  },
  {
   "cell_type": "code",
   "execution_count": 5,
   "id": "80a7b633",
   "metadata": {},
   "outputs": [
    {
     "data": {
      "text/plain": [
       "['No']"
      ]
     },
     "execution_count": 5,
     "metadata": {},
     "output_type": "execute_result"
    }
   ],
   "source": [
    "new_kb.query(pl.Expr(\"likes(noor, pasta)\"))"
   ]
  },
  {
   "cell_type": "code",
   "execution_count": 6,
   "id": "2eb404db",
   "metadata": {},
   "outputs": [
    {
     "name": "stdout",
     "output_type": "stream",
     "text": [
      "[{'What': 'cookie'}, {'What': 'limonade'}, {'What': 'mojito'}]\n",
      "0.0010044574737548828\n"
     ]
    }
   ],
   "source": [
    "from time import time\n",
    "start = time()\n",
    "print(new_kb.query(pl.Expr(\"food_flavor(What, sweet)\")))\n",
    "print(time() - start)"
   ]
  },
  {
   "cell_type": "code",
   "execution_count": 10,
   "id": "6c53079b",
   "metadata": {},
   "outputs": [
    {
     "name": "stdout",
     "output_type": "stream",
     "text": [
      "[{'What': 'gouda'}, {'What': 'steak'}]\n",
      "0.0019965171813964844\n"
     ]
    }
   ],
   "source": [
    "start = time()\n",
    "print(new_kb.query(pl.Expr(\"dish_to_like(noor, What)\")))\n",
    "print(time() - start)"
   ]
  }
 ],
 "metadata": {
  "kernelspec": {
   "display_name": "Python 3",
   "language": "python",
   "name": "python3"
  },
  "language_info": {
   "codemirror_mode": {
    "name": "ipython",
    "version": 3
   },
   "file_extension": ".py",
   "mimetype": "text/x-python",
   "name": "python",
   "nbconvert_exporter": "python",
   "pygments_lexer": "ipython3",
   "version": "3.8.5"
  }
 },
 "nbformat": 4,
 "nbformat_minor": 5
}
