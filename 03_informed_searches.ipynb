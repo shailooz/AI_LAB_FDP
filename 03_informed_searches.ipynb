{
 "cells": [
  {
   "cell_type": "markdown",
   "id": "708858f8",
   "metadata": {},
   "source": [
    "# Greedy Best First Search Algorithm"
   ]
  },
  {
   "cell_type": "code",
   "execution_count": 1,
   "id": "bb5e2a82",
   "metadata": {},
   "outputs": [
    {
     "name": "stdout",
     "output_type": "stream",
     "text": [
      "0 1 3 2 8 9 \n"
     ]
    }
   ],
   "source": [
    "from queue import PriorityQueue\n",
    "v = 14\n",
    "graph = [[] for i in range(v)]\n",
    " \n",
    "# Function For Implementing Best First Search\n",
    "# Gives output path having lowest cost\n",
    " \n",
    " \n",
    "def best_first_search(actual_Src, target, n):\n",
    "    visited = [False] * n\n",
    "    pq = PriorityQueue()\n",
    "    pq.put((0, actual_Src))\n",
    "    visited[actual_Src] = True\n",
    "     \n",
    "    while pq.empty() == False:\n",
    "        u = pq.get()[1]\n",
    "        # Displaying the path having lowest cost\n",
    "        print(u, end=\" \")\n",
    "        if u == target:\n",
    "            break\n",
    " \n",
    "        for v, c in graph[u]:\n",
    "            if visited[v] == False:\n",
    "                visited[v] = True\n",
    "                pq.put((c, v))\n",
    "    print()\n",
    " \n",
    "# Function for adding edges to graph\n",
    " \n",
    " \n",
    "def addedge(x, y, cost):\n",
    "    graph[x].append((y, cost))\n",
    "    graph[y].append((x, cost))\n",
    " \n",
    " \n",
    "# The nodes shown in above example(by alphabets) are\n",
    "# implemented using integers addedge(x,y,cost);\n",
    "addedge(0, 1, 3)\n",
    "addedge(0, 2, 6)\n",
    "addedge(0, 3, 5)\n",
    "addedge(1, 4, 9)\n",
    "addedge(1, 5, 8)\n",
    "addedge(2, 6, 12)\n",
    "addedge(2, 7, 14)\n",
    "addedge(3, 8, 7)\n",
    "addedge(8, 9, 5)\n",
    "addedge(8, 10, 6)\n",
    "addedge(9, 11, 1)\n",
    "addedge(9, 12, 10)\n",
    "addedge(9, 13, 2)\n",
    " \n",
    "source = 0\n",
    "target = 9\n",
    "best_first_search(source, target, v)"
   ]
  },
  {
   "cell_type": "markdown",
   "id": "b61cd3cf",
   "metadata": {},
   "source": [
    "# A* Algorithm "
   ]
  },
  {
   "cell_type": "code",
   "execution_count": 7,
   "id": "7e9debfa",
   "metadata": {},
   "outputs": [
    {
     "name": "stdout",
     "output_type": "stream",
     "text": [
      "\n",
      "Path: A => B => D => E => G\n",
      "Cost: 13\n"
     ]
    }
   ],
   "source": [
    "from queue import heappop, heappush\n",
    "from math import inf\n",
    "\n",
    "class Graph:\n",
    "    def __init__(self, directed=True):\n",
    "        self.edges = {}\n",
    "        self.huristics = {}\n",
    "        self.directed = directed\n",
    "\n",
    "    def add_edge(self, node1, node2, cost = 1, __reversed=False):\n",
    "        try: neighbors = self.edges[node1]\n",
    "        except KeyError: neighbors = {}\n",
    "        neighbors[node2] = cost\n",
    "        self.edges[node1] = neighbors\n",
    "        if not self.directed and not __reversed: self.add_edge(node2, node1, cost, True)\n",
    "\n",
    "    def set_huristics(self, huristics={}):\n",
    "        self.huristics = huristics\n",
    "\n",
    "    def neighbors(self, node):\n",
    "        try: return self.edges[node]\n",
    "        except KeyError: return []\n",
    "\n",
    "    def cost(self, node1, node2):\n",
    "        try: return self.edges[node1][node2]\n",
    "        except: return inf\n",
    "\n",
    "\n",
    "    def a_star_search(self, start, goal):\n",
    "        found, fringe, visited, came_from, cost_so_far = False, [(self.huristics[start], start)], set([start]), {start: None}, {start: 0}\n",
    "        while not found and len(fringe):\n",
    "            _, current = heappop(fringe)\n",
    "            if current == goal: found = True; break\n",
    "            for node in self.neighbors(current):\n",
    "                new_cost = cost_so_far[current] + self.cost(current, node)\n",
    "                if node not in visited or cost_so_far[node] > new_cost:\n",
    "                    visited.add(node); came_from[node] = current; cost_so_far[node] = new_cost\n",
    "                    heappush(fringe, (new_cost + self.huristics[node], node))\n",
    "        if found: print(); return came_from, cost_so_far[goal]\n",
    "        else: print('No path from {} to {}'.format(start, goal)); return None, inf\n",
    "\n",
    "    @staticmethod\n",
    "    def print_path(came_from, goal):\n",
    "        parent = came_from[goal]\n",
    "        if parent:\n",
    "            Graph.print_path(came_from, parent)\n",
    "        else: print(goal, end='');return\n",
    "        print(' =>', goal, end='')\n",
    "\n",
    "\n",
    "    def __str__(self):\n",
    "        return str(self.edges)\n",
    "\n",
    "graph = Graph(directed=True)\n",
    "graph.add_edge('A', 'B', 4)\n",
    "graph.add_edge('A', 'C', 1)\n",
    "graph.add_edge('B', 'D', 3)\n",
    "graph.add_edge('B', 'E', 8)\n",
    "graph.add_edge('C', 'C', 0)\n",
    "graph.add_edge('C', 'D', 7)\n",
    "graph.add_edge('C', 'F', 6)\n",
    "graph.add_edge('D', 'C', 2)\n",
    "graph.add_edge('D', 'E', 4)\n",
    "graph.add_edge('E', 'G', 2)\n",
    "graph.add_edge('F', 'G', 8)\n",
    "graph.set_huristics({'A': 8, 'B': 8, 'C': 6, 'D': 5, 'E': 1, 'F': 4, 'G': 0})\n",
    "start, goal = 'A', 'G'\n",
    "traced_path, cost = graph.a_star_search(start, goal)\n",
    "if (traced_path): \n",
    "    print('Path:', end=' ') \n",
    "    Graph.print_path(traced_path, goal)\n",
    "    print('\\nCost:', cost)"
   ]
  },
  {
   "cell_type": "code",
   "execution_count": null,
   "id": "0fa22d01",
   "metadata": {},
   "outputs": [],
   "source": []
  }
 ],
 "metadata": {
  "kernelspec": {
   "display_name": "Python 3",
   "language": "python",
   "name": "python3"
  },
  "language_info": {
   "codemirror_mode": {
    "name": "ipython",
    "version": 3
   },
   "file_extension": ".py",
   "mimetype": "text/x-python",
   "name": "python",
   "nbconvert_exporter": "python",
   "pygments_lexer": "ipython3",
   "version": "3.8.5"
  }
 },
 "nbformat": 4,
 "nbformat_minor": 5
}
