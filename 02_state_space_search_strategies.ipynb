{
 "cells": [
  {
   "cell_type": "markdown",
   "id": "8cce6e50",
   "metadata": {},
   "source": [
    "# Uniform Cost Search "
   ]
  },
  {
   "cell_type": "code",
   "execution_count": 6,
   "id": "2aa4f0ec",
   "metadata": {},
   "outputs": [
    {
     "name": "stdout",
     "output_type": "stream",
     "text": [
      "Path found: [0, 1, 3, 5, 4], Cost = 11\n"
     ]
    }
   ],
   "source": [
    "import queue as Q\n",
    "\n",
    "def search(graph, start, end):    \n",
    "    queue = Q.PriorityQueue()\n",
    "    queue.put((0, [start]))\n",
    "    \n",
    "    while not queue.empty():\n",
    "        node = queue.get()\n",
    "        #print(node)\n",
    "        current = node[1][len(node[1]) - 1]\n",
    "        if end in node[1]:\n",
    "            print(\"Path found: \" + str(node[1]) + \", Cost = \" + str(node[0]))\n",
    "            return \n",
    "        cost = node[0]\n",
    "        for neighbor in graph[current]:\n",
    "            temp = node[1][:]\n",
    "            temp.append(neighbor)\n",
    "            queue.put((cost + graph[current][neighbor], temp))\n",
    "    print('No path found')\n",
    "        \n",
    "\n",
    "def main():\n",
    "    graph = { 0 : {1:3,2:2},\n",
    "              1 : {3:2,2:1},\n",
    "              2 : {3:3},\n",
    "              3 : {5:4},\n",
    "              4 : {3:2,1:4},\n",
    "              5 : {4:2}\n",
    "            }\n",
    "    search(graph,0,4)\n",
    "    \n",
    "if __name__ == \"__main__\":\n",
    "    main()\n",
    "    \n"
   ]
  },
  {
   "cell_type": "markdown",
   "id": "78ade334",
   "metadata": {},
   "source": [
    "# Depth Limited Search"
   ]
  },
  {
   "cell_type": "code",
   "execution_count": 3,
   "id": "39156829",
   "metadata": {},
   "outputs": [
    {
     "name": "stdout",
     "output_type": "stream",
     "text": [
      "Starting a dls from S\n",
      "Goal Node Found\n",
      "['S', '6', '11', '12', '17', '22', '23', '24', '19', '20', '15', '10', 'G']\n",
      "True\n"
     ]
    }
   ],
   "source": [
    "ADJ = {}\n",
    "\"\"\"\"\n",
    "\n",
    "---------------------\n",
    "| S | R | R | X | G |\n",
    "|---|---|---|---|---|\n",
    "| R | X | R | X | R |\n",
    "|---|---|---|---|---|\n",
    "| R | R | R | X | R |\n",
    "|---|---|---|---|---|\n",
    "| X | R | X | R | R |\n",
    "|---|---|---|---|---|\n",
    "| R | R | R | R | X |\n",
    "---------------------\n",
    "\n",
    "\n",
    "\"\"\"\n",
    "ADJ['S'] = ['2', '6']\n",
    "ADJ['2'] = ['S', '3']\n",
    "ADJ['3'] = ['2','8']\n",
    "ADJ['G'] = ['10']\n",
    "ADJ['6'] = ['S', '11']\n",
    "ADJ['8'] = ['3', '13']\n",
    "ADJ['10'] = ['G', '15']\n",
    "ADJ['11'] = ['6', '12']\n",
    "ADJ['12'] = ['11', '13', '17']\n",
    "ADJ['13'] = ['8', '12']\n",
    "ADJ['15'] = ['10', '20']\n",
    "ADJ['17'] = ['12','22']\n",
    "ADJ['19'] = ['20', '24']\n",
    "ADJ['20'] = ['15','19']\n",
    "ADJ['21'] = ['22']\n",
    "ADJ['22'] = ['17','21','23']\n",
    "ADJ['23'] = ['22', '24']\n",
    "ADJ['24'] = ['19','23']\n",
    "#print (ADJ)\n",
    "# keep track of visited nodes\n",
    "visited = {str(i) : False for i in range(1,26)}\n",
    "visited['S'] = False\n",
    "visited['G'] = False\n",
    "\n",
    "def dls(start, goal):\n",
    "    depth = 0\n",
    "    limit = 200\n",
    "    OPEN=[]\n",
    "    CLOSED=[]\n",
    "    OPEN.append(start)\n",
    "    visited[\"S\"] = True\n",
    "    while OPEN != []: # Step 2\n",
    "        if depth<=limit:\n",
    "            current = OPEN.pop() \n",
    "            # visited[current] = False\n",
    "            if current == goal:\n",
    "                CLOSED.append(current)\n",
    "                print(\"Goal Node Found\")\n",
    "                print(CLOSED)\n",
    "                return True\n",
    "            else:\n",
    "                CLOSED.append(current)\n",
    "                lst = successors(current)\n",
    "                for i in lst:\n",
    "                    # try to visit a node in future, if not already been to it\n",
    "                    if(not(visited[i])):\n",
    "                        OPEN.append(i)\n",
    "                        visited[i] = True\n",
    "                depth +=1\n",
    "        else:\n",
    "            print(\"Not found within depth limit\")\n",
    "            return False\n",
    "    return False\n",
    "def successors(city):\n",
    "    return ADJ[city]\n",
    "\n",
    "def test():\n",
    "    start = 'S'\n",
    "    goal = 'G'\n",
    "    print(\"Starting a dls from \" + start)\n",
    "    print(dls(start, goal))\n",
    "\n",
    "\n",
    "if __name__ == \"__main__\":\n",
    "    test()"
   ]
  }
 ],
 "metadata": {
  "kernelspec": {
   "display_name": "Python 3",
   "language": "python",
   "name": "python3"
  },
  "language_info": {
   "codemirror_mode": {
    "name": "ipython",
    "version": 3
   },
   "file_extension": ".py",
   "mimetype": "text/x-python",
   "name": "python",
   "nbconvert_exporter": "python",
   "pygments_lexer": "ipython3",
   "version": "3.8.5"
  }
 },
 "nbformat": 4,
 "nbformat_minor": 5
}
