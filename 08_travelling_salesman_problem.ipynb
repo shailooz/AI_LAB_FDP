{
 "cells": [
  {
   "cell_type": "markdown",
   "id": "d7e19d2a",
   "metadata": {},
   "source": [
    "# Brute Force"
   ]
  },
  {
   "cell_type": "code",
   "execution_count": 1,
   "id": "2672fa11",
   "metadata": {},
   "outputs": [
    {
     "name": "stdout",
     "output_type": "stream",
     "text": [
      "(0, 2, 3, 1)\n",
      "80\n"
     ]
    }
   ],
   "source": [
    "# Python3 program to implement traveling salesman\n",
    "# problem using naive approach.\n",
    "from sys import maxsize\n",
    "from itertools import permutations\n",
    "V = 4\n",
    " \n",
    "# implementation of traveling Salesman Problem\n",
    "def travellingSalesmanProblem(graph, s):\n",
    " \n",
    "    # store all vertex apart from source vertex\n",
    "    vertex = []\n",
    "    for i in range(V):\n",
    "        if i != s:\n",
    "            vertex.append(i)\n",
    " \n",
    "    # store minimum weight Hamiltonian Cycle\n",
    "    min_path = maxsize\n",
    "    next_permutation=permutations(vertex)\n",
    "    solution = None\n",
    "    for path in next_permutation:\n",
    " \n",
    "        # store current Path weight(cost)\n",
    "        current_pathweight = 0\n",
    " \n",
    "        # compute current path weight\n",
    "        k = s\n",
    "        for j in path:\n",
    "            current_pathweight += graph[k][j]\n",
    "            k = j\n",
    "        current_pathweight += graph[k][s]\n",
    " \n",
    "        # update minimum\n",
    "        min_path = min(min_path, current_pathweight)\n",
    "        if min_path == current_pathweight :\n",
    "            solution=path\n",
    "         \n",
    "    return min_path,(s,)+solution\n",
    "\n",
    " \n",
    " \n",
    "# Driver Code\n",
    "if __name__ == \"__main__\":\n",
    " \n",
    "    # matrix representation of graph\n",
    "    graph = [[0, 10, 15, 20], \n",
    "             [10, 0, 35, 25],\n",
    "             [15, 35, 0, 30],\n",
    "             [20, 25, 30, 0]]\n",
    "    s = 0\n",
    "    min_path,solution=travellingSalesmanProblem(graph, s)\n",
    "    print(solution)\n",
    "    print(min_path)"
   ]
  },
  {
   "cell_type": "markdown",
   "id": "5f9c2dc4",
   "metadata": {},
   "source": [
    "# Genitic Algorithm"
   ]
  },
  {
   "cell_type": "code",
   "execution_count": 3,
   "id": "ba4f5458",
   "metadata": {},
   "outputs": [],
   "source": [
    "# Imports \n",
    "import numpy as np\n",
    "import random\n",
    "\n",
    "from datetime import datetime"
   ]
  },
  {
   "cell_type": "code",
   "execution_count": 4,
   "id": "81dfa444",
   "metadata": {},
   "outputs": [
    {
     "data": {
      "text/plain": [
       "{'Berlin': [33, 97],\n",
       " 'London': [42, 34],\n",
       " 'Moscow': [67, 99],\n",
       " 'Barcelona': [96, 89],\n",
       " 'Rome': [61, 75],\n",
       " 'Paris': [30, 79],\n",
       " 'Vienna': [97, 1],\n",
       " 'Munich': [82, 91],\n",
       " 'Istanbul': [36, 17],\n",
       " 'Kyiv': [45, 9],\n",
       " 'Bucharest': [76, 91],\n",
       " 'Minsk': [2, 73],\n",
       " 'Warsaw': [43, 63],\n",
       " 'Budapest': [40, 77],\n",
       " 'Milan': [22, 47],\n",
       " 'Prague': [14, 38],\n",
       " 'Sofia': [51, 36],\n",
       " 'Birmingham': [14, 92],\n",
       " 'Brussels': [24, 14],\n",
       " 'Amsterdam': [42, 18]}"
      ]
     },
     "execution_count": 4,
     "metadata": {},
     "output_type": "execute_result"
    }
   ],
   "source": [
    "# Parameters\n",
    "n_cities = 20\n",
    "\n",
    "n_population = 100\n",
    "\n",
    "mutation_rate = 0.3\n",
    "# Generating a list of coordenades representing each city\n",
    "coordinates_list = [[x,y] for x,y in zip(np.random.randint(0,100,n_cities),np.random.randint(0,100,n_cities))]\n",
    "names_list = np.array(['Berlin', 'London', 'Moscow', 'Barcelona', 'Rome', 'Paris', 'Vienna', 'Munich', 'Istanbul', 'Kyiv', 'Bucharest', 'Minsk', 'Warsaw', 'Budapest', 'Milan', 'Prague', 'Sofia', 'Birmingham', 'Brussels', 'Amsterdam'])\n",
    "cities_dict = { x:y for x,y in zip(names_list,coordinates_list)}\n",
    "\n",
    "# Function to compute the distance between two points\n",
    "def compute_city_distance_coordinates(a,b):\n",
    "    return ((a[0]-b[0])**2+(a[1]-b[1])**2)**0.5\n",
    "\n",
    "def compute_city_distance_names(city_a, city_b, cities_dict):\n",
    "    return compute_city_distance_coordinates(cities_dict[city_a], cities_dict[city_b])\n",
    "\n",
    "cities_dict"
   ]
  },
  {
   "cell_type": "code",
   "execution_count": 5,
   "id": "e5a15850",
   "metadata": {},
   "outputs": [
    {
     "data": {
      "text/plain": [
       "array([['Sofia', 'Warsaw', 'Kyiv', ..., 'Istanbul', 'Budapest',\n",
       "        'Bucharest'],\n",
       "       ['Amsterdam', 'Istanbul', 'Barcelona', ..., 'London', 'Milan',\n",
       "        'Munich'],\n",
       "       ['Birmingham', 'Kyiv', 'London', ..., 'Brussels', 'Moscow',\n",
       "        'Berlin'],\n",
       "       ...,\n",
       "       ['Moscow', 'Rome', 'Sofia', ..., 'Birmingham', 'Warsaw',\n",
       "        'Brussels'],\n",
       "       ['Amsterdam', 'Moscow', 'Minsk', ..., 'Budapest', 'Bucharest',\n",
       "        'Paris'],\n",
       "       ['Vienna', 'Milan', 'Brussels', ..., 'Prague', 'Budapest',\n",
       "        'Minsk']], dtype='<U10')"
      ]
     },
     "execution_count": 5,
     "metadata": {},
     "output_type": "execute_result"
    }
   ],
   "source": [
    "# First step: Create the first population set\n",
    "def genesis(city_list, n_population):\n",
    "\n",
    "    population_set = []\n",
    "    for i in range(n_population):\n",
    "        #Randomly generating a new solution\n",
    "        sol_i = city_list[np.random.choice(list(range(n_cities)), n_cities, replace=False)]\n",
    "        population_set.append(sol_i)\n",
    "    return np.array(population_set)\n",
    "\n",
    "population_set = genesis(names_list, n_population)\n",
    "population_set"
   ]
  },
  {
   "cell_type": "code",
   "execution_count": 4,
   "id": "2f705183",
   "metadata": {},
   "outputs": [
    {
     "data": {
      "text/plain": [
       "array([1147.55189872, 1141.69461299, 1043.86432118,  947.79911194,\n",
       "       1136.27199542,  992.36005412,  974.14067592, 1100.28966501,\n",
       "       1075.16252646, 1045.84525237, 1232.9240955 , 1041.79867972,\n",
       "        811.01761319, 1284.73393783, 1121.42236046, 1159.62929271,\n",
       "        874.49501353, 1102.48458455, 1054.34925238, 1079.39670628,\n",
       "       1054.31122471,  983.23762144, 1008.2015069 , 1211.4903102 ,\n",
       "        957.64851108,  985.17215199, 1095.00473753, 1093.78767342,\n",
       "       1272.49584201, 1079.46592586, 1086.05713711, 1208.01166972,\n",
       "       1055.49468347, 1175.60113696, 1102.56169089, 1103.70508874,\n",
       "       1114.35152651, 1108.3717023 , 1069.49636226, 1198.84405087,\n",
       "       1167.4896474 , 1017.10718564, 1219.57348969, 1115.97801274,\n",
       "       1008.56252543, 1067.54526659, 1102.24968856, 1092.75653264,\n",
       "       1187.15194108, 1105.02083961, 1198.73036023, 1159.02516508,\n",
       "       1153.79701949, 1202.96103504, 1072.87297477,  935.24654604,\n",
       "       1163.57661745,  977.88595124,  992.21009425,  830.22843405,\n",
       "        995.23137231, 1024.71596862,  907.9230223 , 1229.70735994,\n",
       "       1121.40239514, 1260.27615551, 1136.84943947, 1048.75891318,\n",
       "       1061.8959731 , 1070.84413791,  980.57134528,  940.86105546,\n",
       "       1197.24849313, 1036.63937358, 1069.00087076, 1332.47221948,\n",
       "       1314.85283788,  963.9411486 , 1159.55280271, 1027.93806077,\n",
       "        998.18182339, 1057.91111844, 1022.55128681, 1062.57484085,\n",
       "       1122.16542772, 1253.27563027, 1000.07766232,  804.66365632,\n",
       "       1161.52866202, 1223.34083358, 1129.60393461, 1197.20599387,\n",
       "       1183.56917221, 1172.80745966, 1066.00831909,  966.96215175,\n",
       "       1022.41275907, 1066.9329765 , 1010.79664841,  819.9546029 ])"
      ]
     },
     "execution_count": 4,
     "metadata": {},
     "output_type": "execute_result"
    }
   ],
   "source": [
    "def fitness_eval(city_list, cities_dict):\n",
    "    total = 0\n",
    "    for i in range(n_cities-1):\n",
    "        a = city_list[i]\n",
    "        b = city_list[i+1]\n",
    "        total += compute_city_distance_names(a,b, cities_dict)\n",
    "    return total\n",
    "def get_all_fitnes(population_set, cities_dict):\n",
    "    fitnes_list = np.zeros(n_population)\n",
    "\n",
    "    #Looping over all solutions computing the fitness for each solution\n",
    "    for i in  range(n_population):\n",
    "        fitnes_list[i] = fitness_eval(population_set[i], cities_dict)\n",
    "\n",
    "    return fitnes_list\n",
    "\n",
    "fitnes_list = get_all_fitnes(population_set,cities_dict)\n",
    "fitnes_list"
   ]
  },
  {
   "cell_type": "code",
   "execution_count": 6,
   "id": "ae54fa97",
   "metadata": {},
   "outputs": [
    {
     "ename": "NameError",
     "evalue": "name 'fitnes_list' is not defined",
     "output_type": "error",
     "traceback": [
      "\u001b[1;31m---------------------------------------------------------------------------\u001b[0m",
      "\u001b[1;31mNameError\u001b[0m                                 Traceback (most recent call last)",
      "\u001b[1;32m<ipython-input-6-8c6e870399a3>\u001b[0m in \u001b[0;36m<module>\u001b[1;34m\u001b[0m\n\u001b[0;32m     14\u001b[0m \u001b[1;33m\u001b[0m\u001b[0m\n\u001b[0;32m     15\u001b[0m \u001b[1;33m\u001b[0m\u001b[0m\n\u001b[1;32m---> 16\u001b[1;33m \u001b[0mprogenitor_list\u001b[0m \u001b[1;33m=\u001b[0m \u001b[0mprogenitor_selection\u001b[0m\u001b[1;33m(\u001b[0m\u001b[0mpopulation_set\u001b[0m\u001b[1;33m,\u001b[0m\u001b[0mfitnes_list\u001b[0m\u001b[1;33m)\u001b[0m\u001b[1;33m\u001b[0m\u001b[1;33m\u001b[0m\u001b[0m\n\u001b[0m\u001b[0;32m     17\u001b[0m \u001b[0mprogenitor_list\u001b[0m\u001b[1;33m[\u001b[0m\u001b[1;36m0\u001b[0m\u001b[1;33m]\u001b[0m\u001b[1;33m[\u001b[0m\u001b[1;36m2\u001b[0m\u001b[1;33m]\u001b[0m\u001b[1;33m\u001b[0m\u001b[1;33m\u001b[0m\u001b[0m\n",
      "\u001b[1;31mNameError\u001b[0m: name 'fitnes_list' is not defined"
     ]
    }
   ],
   "source": [
    "def progenitor_selection(population_set,fitnes_list):\n",
    "    total_fit = fitnes_list.sum()\n",
    "    prob_list = fitnes_list/total_fit\n",
    "    \n",
    "    #Notice there is the chance that a progenitor. mates with oneself\n",
    "    progenitor_list_a = np.random.choice(list(range(len(population_set))), len(population_set),p=prob_list, replace=True)\n",
    "    progenitor_list_b = np.random.choice(list(range(len(population_set))), len(population_set),p=prob_list, replace=True)\n",
    "    \n",
    "    progenitor_list_a = population_set[progenitor_list_a]\n",
    "    progenitor_list_b = population_set[progenitor_list_b]\n",
    "    \n",
    "    \n",
    "    return np.array([progenitor_list_a,progenitor_list_b])\n",
    "\n",
    "\n",
    "progenitor_list = progenitor_selection(population_set,fitnes_list)\n",
    "progenitor_list[0][2]"
   ]
  },
  {
   "cell_type": "code",
   "execution_count": 7,
   "id": "1a1044d3",
   "metadata": {},
   "outputs": [
    {
     "ename": "NameError",
     "evalue": "name 'parent_list' is not defined",
     "output_type": "error",
     "traceback": [
      "\u001b[1;31m---------------------------------------------------------------------------\u001b[0m",
      "\u001b[1;31mNameError\u001b[0m                                 Traceback (most recent call last)",
      "\u001b[1;32m<ipython-input-7-af2b39457792>\u001b[0m in \u001b[0;36m<module>\u001b[1;34m\u001b[0m\n\u001b[0;32m     20\u001b[0m     \u001b[1;32mreturn\u001b[0m \u001b[0mnew_population_set\u001b[0m\u001b[1;33m\u001b[0m\u001b[1;33m\u001b[0m\u001b[0m\n\u001b[0;32m     21\u001b[0m \u001b[1;33m\u001b[0m\u001b[0m\n\u001b[1;32m---> 22\u001b[1;33m \u001b[0mnew_population_set\u001b[0m \u001b[1;33m=\u001b[0m \u001b[0mmate_population\u001b[0m\u001b[1;33m(\u001b[0m\u001b[0mparent_list\u001b[0m\u001b[1;33m)\u001b[0m\u001b[1;33m\u001b[0m\u001b[1;33m\u001b[0m\u001b[0m\n\u001b[0m\u001b[0;32m     23\u001b[0m \u001b[0mnew_population_set\u001b[0m\u001b[1;33m[\u001b[0m\u001b[1;36m0\u001b[0m\u001b[1;33m]\u001b[0m\u001b[1;33m\u001b[0m\u001b[1;33m\u001b[0m\u001b[0m\n",
      "\u001b[1;31mNameError\u001b[0m: name 'parent_list' is not defined"
     ]
    }
   ],
   "source": [
    "def mate_parents(prog_a, prog_b):\n",
    "    offspring = prog_a[0:5]\n",
    "\n",
    "    for city in prog_b:\n",
    "\n",
    "        if not city in offspring:\n",
    "            offspring = np.concatenate((offspring,[city]))\n",
    "\n",
    "    return offspring\n",
    "            \n",
    "    \n",
    "    \n",
    "def mate_population(parent_list):\n",
    "    new_population_set = []\n",
    "    for i in range(parent_list.shape[1]):\n",
    "        prog_a, prog_b = parent_list[0][i], parent_list[1][i]\n",
    "        offspring = mate_parents(prog_a, prog_b)\n",
    "        new_population_set.append(offspring)\n",
    "        \n",
    "    return new_population_set\n",
    "\n",
    "new_population_set = mate_population(parent_list)\n",
    "new_population_set[0]"
   ]
  },
  {
   "cell_type": "code",
   "execution_count": null,
   "id": "ea2ce3f8",
   "metadata": {},
   "outputs": [],
   "source": [
    "def mutate_offspring(offspring):\n",
    "    for q in range(int(n_cities*mutation_rate)):\n",
    "        a = np.random.randint(0,n_cities)\n",
    "        b = np.random.randint(0,n_cities)\n",
    "\n",
    "        offspring[a], offspring[b] = offspring[b], offspring[a]\n",
    "\n",
    "    return offspring\n",
    "    \n",
    "    \n",
    "def mutate_population(new_population_set):\n",
    "    mutated_pop = []\n",
    "    for offspring in new_population_set:\n",
    "        mutated_pop.append(mutate_offspring(offspring))\n",
    "    return mutated_pop\n",
    "\n",
    "mutated_pop = mutate_population(new_population_set)\n",
    "mutated_pop[0]"
   ]
  },
  {
   "cell_type": "code",
   "execution_count": null,
   "id": "2d93a4cd",
   "metadata": {},
   "outputs": [],
   "source": [
    "best_solution = [-1,np.inf,np.array([])]\n",
    "for i in range(10000):\n",
    "    if i%100==0: print(i, fitnes_list.min(), fitnes_list.mean(), datetime.now().strftime(\"%d/%m/%y %H:%M\"))\n",
    "    fitnes_list = get_all_fitnes(mutated_pop,cities_dict)\n",
    "    \n",
    "    #Saving the best solution\n",
    "    if fitnes_list.min() < best_solution[1]:\n",
    "        best_solution[0] = i\n",
    "        best_solution[1] = fitnes_list.min()\n",
    "        best_solution[2] = np.array(mutated_pop)[fitnes_list.min() == fitnes_list]\n",
    "    \n",
    "    progenitor_list = progenitor_selection(population_set,fitnes_list)\n",
    "    new_population_set = mate_population(progenitor_list)\n",
    "    \n",
    "    mutated_pop = mutate_population(new_population_set)\n",
    "best_solution"
   ]
  }
 ],
 "metadata": {
  "kernelspec": {
   "display_name": "Python 3",
   "language": "python",
   "name": "python3"
  },
  "language_info": {
   "codemirror_mode": {
    "name": "ipython",
    "version": 3
   },
   "file_extension": ".py",
   "mimetype": "text/x-python",
   "name": "python",
   "nbconvert_exporter": "python",
   "pygments_lexer": "ipython3",
   "version": "3.8.5"
  }
 },
 "nbformat": 4,
 "nbformat_minor": 5
}
