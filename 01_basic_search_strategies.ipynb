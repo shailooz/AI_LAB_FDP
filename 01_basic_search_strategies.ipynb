{
 "cells": [
  {
   "cell_type": "markdown",
   "id": "f085941c",
   "metadata": {},
   "source": [
    "# Depth First Search (DFS)"
   ]
  },
  {
   "cell_type": "raw",
   "id": "01693ec0",
   "metadata": {},
   "source": [
    "graph = {\n",
    "  '5' : ['3','7'],\n",
    "  '3' : ['2', '4'],\n",
    "  '7' : ['8'],\n",
    "  '2' : [],\n",
    "  '4' : ['8'],\n",
    "  '8' : []\n",
    "}\n",
    "\n",
    "visited = set() # Set to keep track of visited nodes of graph.\n",
    "\n",
    "def dfs(visited, graph, node):  #function for dfs \n",
    "    if node not in visited:\n",
    "        print (node)\n",
    "        visited.add(node)\n",
    "        for neighbour in graph[node]:\n",
    "            dfs(visited, graph, neighbour)\n",
    "\n",
    "# Driver Code\n",
    "print(\"Following is the Depth-First Search\")\n",
    "dfs(visited, graph, '5')"
   ]
  },
  {
   "cell_type": "markdown",
   "id": "0ef2b102",
   "metadata": {},
   "source": [
    "Application : SubSet Sum\n",
    "\n",
    "S = {1,2,3}\n",
    "\n",
    "Goal = 4"
   ]
  },
  {
   "cell_type": "code",
   "execution_count": 10,
   "id": "8a1024db",
   "metadata": {},
   "outputs": [],
   "source": [
    "import numpy as np\n",
    "\n",
    "graph = {\n",
    "  'a' : ['b','c','d'],\n",
    "  'b' : ['e','f','a'],\n",
    "  'c' : ['e','g','a'],\n",
    "  'd' : ['f','g','a'],\n",
    "  'e' : ['h','b','c'],\n",
    "  'f' : ['h','b','d'],\n",
    "  'g' : ['h','d','c'],\n",
    "  'h' : ['e','f','g']\n",
    "}\n",
    "\n",
    "solutions = {\n",
    "    \n",
    "  'a' : [],\n",
    "  'b' : [1],\n",
    "  'c' : [2],\n",
    "  'd' : [3],\n",
    "  'e' : [1,2],\n",
    "  'f' : [1,3],\n",
    "  'g' : [2,3],\n",
    "  'h' : [1,2,3]\n",
    "}\n",
    "\n",
    "goal =  4"
   ]
  },
  {
   "cell_type": "code",
   "execution_count": 11,
   "id": "86686471",
   "metadata": {},
   "outputs": [
    {
     "name": "stdout",
     "output_type": "stream",
     "text": [
      "Following is the Depth-First Search\n",
      "a\n",
      "b\n",
      "e\n",
      "h\n",
      "f\n",
      "Goal Reached\n",
      "Solution :[1, 3]\n"
     ]
    }
   ],
   "source": [
    "visited = set() # Set to keep track of visited nodes of graph.\n",
    "found = False\n",
    "def dfs(visited, graph, node, goal):  #function for dfs \n",
    "    global found\n",
    "    if node not in visited and not found:\n",
    "        print (node)\n",
    "        if np.sum(solutions[node]) == goal:\n",
    "            found = True\n",
    "            print('Goal Reached')\n",
    "            print('Solution :' + str(solutions[node]))\n",
    "        visited.add(node)\n",
    "        for neighbour in graph[node]:\n",
    "            dfs(visited, graph, neighbour, goal)\n",
    "\n",
    "# Driver Code\n",
    "print(\"Following is the Depth-First Search\")\n",
    "dfs(visited, graph, 'a', 4)"
   ]
  },
  {
   "cell_type": "markdown",
   "id": "763efd0e",
   "metadata": {},
   "source": [
    "# Breadth First Search (DFS)"
   ]
  },
  {
   "cell_type": "code",
   "execution_count": 17,
   "id": "d4b13cf0",
   "metadata": {},
   "outputs": [
    {
     "name": "stdout",
     "output_type": "stream",
     "text": [
      "Following is the Breadth-First Search\n",
      "5 3 7 2 4 8 "
     ]
    }
   ],
   "source": [
    "graph = {\n",
    "  '5' : ['3','7'],\n",
    "  '3' : ['2', '4'],\n",
    "  '7' : ['8'],\n",
    "  '2' : [],\n",
    "  '4' : ['8'],\n",
    "  '8' : []\n",
    "}\n",
    "\n",
    "visited = [] # List for visited nodes.\n",
    "queue = []     #Initialize a queue\n",
    "\n",
    "\n",
    "def bfs(visited, graph, node): #function for BFS\n",
    "  visited.append(node)\n",
    "  queue.append(node)\n",
    "\n",
    "  while queue:          # Creating loop to visit each node\n",
    "    m = queue.pop(0) \n",
    "    print (m, end = \" \") \n",
    "\n",
    "    for neighbour in graph[m]:\n",
    "      if neighbour not in visited:\n",
    "        visited.append(neighbour)\n",
    "        queue.append(neighbour)\n",
    "\n",
    "# Driver Code\n",
    "print(\"Following is the Breadth-First Search\")\n",
    "# function calling\n",
    "bfs(visited, graph, '5')\n"
   ]
  },
  {
   "cell_type": "code",
   "execution_count": 18,
   "id": "43fc31b8",
   "metadata": {},
   "outputs": [],
   "source": [
    "import numpy as np\n",
    "\n",
    "graph = {\n",
    "  'a' : ['b','c','d'],\n",
    "  'b' : ['e','f','a'],\n",
    "  'c' : ['e','g','a'],\n",
    "  'd' : ['f','g','a'],\n",
    "  'e' : ['h','b','c'],\n",
    "  'f' : ['h','b','d'],\n",
    "  'g' : ['h','d','c'],\n",
    "  'h' : ['e','f','g']\n",
    "}\n",
    "\n",
    "solutions = {\n",
    "    \n",
    "  'a' : [],\n",
    "  'b' : [1],\n",
    "  'c' : [2],\n",
    "  'd' : [3],\n",
    "  'e' : [1,2],\n",
    "  'f' : [1,3],\n",
    "  'g' : [2,3],\n",
    "  'h' : [1,2,3]\n",
    "}\n",
    "\n",
    "goal =  4"
   ]
  },
  {
   "cell_type": "code",
   "execution_count": 21,
   "id": "a553bda2",
   "metadata": {},
   "outputs": [
    {
     "name": "stdout",
     "output_type": "stream",
     "text": [
      "Following is the Breadth-First Search\n",
      "a\n",
      "b\n",
      "c\n",
      "d\n",
      "e\n",
      "f\n",
      "Goal Reached\n",
      "Solution :[1, 3]\n"
     ]
    }
   ],
   "source": [
    "visited = [] # List for visited nodes.\n",
    "queue = []     #Initialize a queue\n",
    "\n",
    "found = False\n",
    "def bfs(visited, graph, node,goal): #function for BFS\n",
    "    global found\n",
    "    visited.append(node)\n",
    "    queue.append(node)\n",
    "    while queue and not found:          # Creating loop to visit each node\n",
    "        m = queue.pop(0) \n",
    "        print (m) \n",
    "        if np.sum(solutions[m]) == goal:\n",
    "            found = True\n",
    "            print('Goal Reached')\n",
    "            print('Solution :' + str(solutions[m]))\n",
    "        for neighbour in graph[m]:\n",
    "            if neighbour not in visited:\n",
    "                visited.append(neighbour)\n",
    "                queue.append(neighbour)\n",
    "\n",
    "\n",
    "# Driver Code\n",
    "print(\"Following is the Breadth-First Search\")\n",
    "bfs(visited, graph, 'a',4)     # function calling"
   ]
  },
  {
   "cell_type": "code",
   "execution_count": null,
   "id": "f7ddae50",
   "metadata": {},
   "outputs": [],
   "source": []
  }
 ],
 "metadata": {
  "kernelspec": {
   "display_name": "Python 3",
   "language": "python",
   "name": "python3"
  },
  "language_info": {
   "codemirror_mode": {
    "name": "ipython",
    "version": 3
   },
   "file_extension": ".py",
   "mimetype": "text/x-python",
   "name": "python",
   "nbconvert_exporter": "python",
   "pygments_lexer": "ipython3",
   "version": "3.8.5"
  }
 },
 "nbformat": 4,
 "nbformat_minor": 5
}
