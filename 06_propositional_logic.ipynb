{
 "cells": [
  {
   "cell_type": "markdown",
   "id": "65a731a5",
   "metadata": {},
   "source": [
    "# Propositional Logic"
   ]
  },
  {
   "cell_type": "code",
   "execution_count": 6,
   "id": "2ab026f9",
   "metadata": {},
   "outputs": [],
   "source": [
    "import pytholog as pl"
   ]
  },
  {
   "cell_type": "code",
   "execution_count": 21,
   "id": "e53881f1",
   "metadata": {},
   "outputs": [],
   "source": [
    "from sympy import *\n",
    "from sympy.logic.inference import satisfiable"
   ]
  },
  {
   "cell_type": "code",
   "execution_count": 26,
   "id": "c09b58ad",
   "metadata": {},
   "outputs": [
    {
     "name": "stdout",
     "output_type": "stream",
     "text": [
      "hagrid & rain\n",
      "False\n",
      "{hagrid: True, rain: True}\n"
     ]
    }
   ],
   "source": [
    "rain = Symbol(\"rain\")\n",
    "hagrid = Symbol(\"hagrid\")  \n",
    "dumbledore = Symbol(\"dumpledore\")\n",
    "logical_sentence = And(rain, hagrid) \n",
    "print(logical_sentence)\n",
    "print(logical_sentence.subs({rain: True, hagrid: False}))\n",
    "print(satisfiable(logical_sentence))"
   ]
  },
  {
   "cell_type": "code",
   "execution_count": 23,
   "id": "b1508b39",
   "metadata": {},
   "outputs": [
    {
     "name": "stdout",
     "output_type": "stream",
     "text": [
      "Implies(~rain, hagrid)\n",
      "{hagrid: True, rain: True}\n"
     ]
    }
   ],
   "source": [
    "implication_logic = Implies(Not(rain), hagrid) \n",
    "print(implication_logic)\n",
    "print(satisfiable(implication_logic))"
   ]
  },
  {
   "cell_type": "code",
   "execution_count": 17,
   "id": "9a954d76",
   "metadata": {},
   "outputs": [],
   "source": [
    "knowledge_base = And(                   \n",
    "   Implies(Not(rain), hagrid),\n",
    "   Or(hagrid, dumbledore),\n",
    "   Not(And(hagrid, dumbledore)),\n",
    "   hagrid\n",
    ")"
   ]
  },
  {
   "cell_type": "code",
   "execution_count": 36,
   "id": "ca8b81b0",
   "metadata": {},
   "outputs": [
    {
     "name": "stdout",
     "output_type": "stream",
     "text": [
      "hagrid & (dumpledore | hagrid) & (Implies(~rain, hagrid)) & ~(dumpledore & hagrid)\n",
      "{hagrid: True, dumpledore: False, rain: False}\n",
      "{hagrid: True, dumpledore: False, rain: True}\n"
     ]
    }
   ],
   "source": [
    "print(knowledge_base)\n",
    "models = satisfiable(knowledge_base, all_models=True)\n",
    "for model in models:\n",
    "    print(model)"
   ]
  },
  {
   "cell_type": "code",
   "execution_count": 48,
   "id": "26e930c7",
   "metadata": {},
   "outputs": [
    {
     "name": "stdout",
     "output_type": "stream",
     "text": [
      "False\n"
     ]
    }
   ],
   "source": [
    "p : Symbol(\"rainy\")\n",
    "q : Symbol(\"happy\")\n",
    "r : Symbol(\"play football\")\n",
    "    \n",
    "p1 : Implies(And(Not(p),q),r)\n",
    "    \n",
    "print(valid(p))"
   ]
  },
  {
   "cell_type": "code",
   "execution_count": 51,
   "id": "8aae69da",
   "metadata": {},
   "outputs": [
    {
     "name": "stdout",
     "output_type": "stream",
     "text": [
      "True\n"
     ]
    }
   ],
   "source": [
    "from sympy.abc import A, B, C\n",
    "\n",
    "exp = Implies(And(Or(A,B),Implies(A,C),Implies(B,C)),C)\n",
    "\n",
    "print(valid(exp))\n"
   ]
  },
  {
   "cell_type": "code",
   "execution_count": 45,
   "id": "021844c0",
   "metadata": {},
   "outputs": [
    {
     "name": "stdout",
     "output_type": "stream",
     "text": [
      "True\n"
     ]
    }
   ],
   "source": [
    "from sympy.logic.inference import valid\n",
    "\n",
    "p = Symbol(\"rain_afternoon\")\n",
    "q = Symbol(\"colder_than_yesterday\") \n",
    "r = Symbol(\"go_swimming\")\n",
    "s = Symbol(\"take_a_canoe_trip\")\n",
    "t = Symbol(\"at_home_by_sunset\")\n",
    "\n",
    "p1 = And(Not(p),q) #It’s not sunny and it’s colder than yesterday”]\n",
    "p2 = Implies(r,p) # “We will go swimming only if it’s sunny.”\n",
    "p3 = Implies(Not(r),s) #“If we don’t go swimming then we will take canoe trip.”\n",
    "p4 = Implies(s,t) #“If we take a canoe trip, then we will be home by sunset\n",
    "\n",
    "\n",
    "\n",
    "result = valid(Implies(And(p1,p2,p3,p4),t))\n",
    "print(result)"
   ]
  },
  {
   "cell_type": "code",
   "execution_count": null,
   "id": "99ac1ad0",
   "metadata": {},
   "outputs": [],
   "source": []
  }
 ],
 "metadata": {
  "kernelspec": {
   "display_name": "Python 3",
   "language": "python",
   "name": "python3"
  },
  "language_info": {
   "codemirror_mode": {
    "name": "ipython",
    "version": 3
   },
   "file_extension": ".py",
   "mimetype": "text/x-python",
   "name": "python",
   "nbconvert_exporter": "python",
   "pygments_lexer": "ipython3",
   "version": "3.8.5"
  }
 },
 "nbformat": 4,
 "nbformat_minor": 5
}
