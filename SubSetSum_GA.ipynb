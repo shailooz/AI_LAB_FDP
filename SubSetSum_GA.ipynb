{
 "cells": [
  {
   "cell_type": "code",
   "execution_count": 47,
   "id": "4a002764",
   "metadata": {},
   "outputs": [
    {
     "name": "stdout",
     "output_type": "stream",
     "text": [
      "0 ----> (4, 4, 2, 2)\n",
      "1 ----> (4, 4, 3, 3)\n",
      "2 ----> (4, 4, 3, 3)\n"
     ]
    },
    {
     "ename": "IndexError",
     "evalue": "list index out of range",
     "output_type": "error",
     "traceback": [
      "\u001b[1;31m---------------------------------------------------------------------------\u001b[0m",
      "\u001b[1;31mIndexError\u001b[0m                                Traceback (most recent call last)",
      "\u001b[1;32m<ipython-input-47-46fb51210322>\u001b[0m in \u001b[0;36m<module>\u001b[1;34m\u001b[0m\n\u001b[0;32m     58\u001b[0m         \u001b[1;32mfor\u001b[0m \u001b[0mp2\u001b[0m \u001b[1;32min\u001b[0m \u001b[0mparents\u001b[0m\u001b[1;33m:\u001b[0m\u001b[1;33m\u001b[0m\u001b[1;33m\u001b[0m\u001b[0m\n\u001b[0;32m     59\u001b[0m             \u001b[0mchildren\u001b[0m\u001b[1;33m.\u001b[0m\u001b[0mextend\u001b[0m\u001b[1;33m(\u001b[0m\u001b[0mcrossover\u001b[0m\u001b[1;33m(\u001b[0m\u001b[0mlist\u001b[0m\u001b[1;33m(\u001b[0m\u001b[0mp1\u001b[0m\u001b[1;33m)\u001b[0m\u001b[1;33m,\u001b[0m\u001b[0mlist\u001b[0m\u001b[1;33m(\u001b[0m\u001b[0mp2\u001b[0m\u001b[1;33m)\u001b[0m\u001b[1;33m)\u001b[0m\u001b[1;33m)\u001b[0m\u001b[1;33m\u001b[0m\u001b[1;33m\u001b[0m\u001b[0m\n\u001b[1;32m---> 60\u001b[1;33m     \u001b[0mchildren\u001b[0m \u001b[1;33m=\u001b[0m \u001b[0mmutation\u001b[0m\u001b[1;33m(\u001b[0m\u001b[0mchildren\u001b[0m\u001b[1;33m)\u001b[0m\u001b[1;33m\u001b[0m\u001b[1;33m\u001b[0m\u001b[0m\n\u001b[0m\u001b[0;32m     61\u001b[0m     \u001b[0mchildren\u001b[0m\u001b[1;33m.\u001b[0m\u001b[0mextend\u001b[0m\u001b[1;33m(\u001b[0m\u001b[0mparents\u001b[0m\u001b[1;33m)\u001b[0m\u001b[1;33m\u001b[0m\u001b[1;33m\u001b[0m\u001b[0m\n\u001b[0;32m     62\u001b[0m     \u001b[0mpopulation\u001b[0m\u001b[1;33m=\u001b[0m\u001b[0mchildren\u001b[0m\u001b[1;33m\u001b[0m\u001b[1;33m\u001b[0m\u001b[0m\n",
      "\u001b[1;32m<ipython-input-47-46fb51210322>\u001b[0m in \u001b[0;36mmutation\u001b[1;34m(population)\u001b[0m\n\u001b[0;32m     21\u001b[0m     \u001b[0mp\u001b[0m \u001b[1;33m=\u001b[0m \u001b[0mrandom\u001b[0m\u001b[1;33m.\u001b[0m\u001b[0mrandint\u001b[0m\u001b[1;33m(\u001b[0m\u001b[1;36m0\u001b[0m\u001b[1;33m,\u001b[0m\u001b[1;36m4\u001b[0m\u001b[1;33m)\u001b[0m\u001b[1;33m\u001b[0m\u001b[1;33m\u001b[0m\u001b[0m\n\u001b[0;32m     22\u001b[0m     \u001b[0mq\u001b[0m \u001b[1;33m=\u001b[0m \u001b[0mrandom\u001b[0m\u001b[1;33m.\u001b[0m\u001b[0mrandint\u001b[0m\u001b[1;33m(\u001b[0m\u001b[1;36m0\u001b[0m\u001b[1;33m,\u001b[0m\u001b[1;36m4\u001b[0m\u001b[1;33m)\u001b[0m\u001b[1;33m\u001b[0m\u001b[1;33m\u001b[0m\u001b[0m\n\u001b[1;32m---> 23\u001b[1;33m     \u001b[0mcan\u001b[0m \u001b[1;33m=\u001b[0m \u001b[0mlist\u001b[0m\u001b[1;33m(\u001b[0m\u001b[0mpopulation\u001b[0m\u001b[1;33m[\u001b[0m\u001b[0mc\u001b[0m\u001b[1;33m]\u001b[0m\u001b[1;33m)\u001b[0m\u001b[1;33m\u001b[0m\u001b[1;33m\u001b[0m\u001b[0m\n\u001b[0m\u001b[0;32m     24\u001b[0m     \u001b[0mcan\u001b[0m\u001b[1;33m[\u001b[0m\u001b[0mp\u001b[0m\u001b[1;33m]\u001b[0m \u001b[1;33m=\u001b[0m \u001b[0mq\u001b[0m\u001b[1;33m\u001b[0m\u001b[1;33m\u001b[0m\u001b[0m\n\u001b[0;32m     25\u001b[0m     \u001b[0mpopulation\u001b[0m\u001b[1;33m[\u001b[0m\u001b[0mc\u001b[0m\u001b[1;33m]\u001b[0m\u001b[1;33m=\u001b[0m\u001b[0mtuple\u001b[0m\u001b[1;33m(\u001b[0m\u001b[0mcan\u001b[0m\u001b[1;33m)\u001b[0m\u001b[1;33m\u001b[0m\u001b[1;33m\u001b[0m\u001b[0m\n",
      "\u001b[1;31mIndexError\u001b[0m: list index out of range"
     ]
    }
   ],
   "source": [
    "import itertools\n",
    "import random\n",
    "\n",
    "def initial_population(N):\n",
    "    chromosome =  [1,2,3,4]\n",
    "    chromosomes = list(itertools.product(chromosome,repeat = 4))\n",
    "    random.shuffle(chromosomes)\n",
    "    #print(chromosomes)\n",
    "    return chromosomes[:N]\n",
    "    \n",
    "# crossover two parents to create two children\n",
    "def crossover(p1, p2):\n",
    "    c1, c2 = p1.copy(), p2.copy()\n",
    "    c1 = p1[:2] + p2[2:]\n",
    "    c2 = p2[:2] + p1[2:]\n",
    "    return [tuple(c1), tuple(c2)]\n",
    "\n",
    "# mutation operator\n",
    "def mutation(population):\n",
    "    c = random.randint(0,len(population))\n",
    "    p = random.randint(0,4)\n",
    "    q = random.randint(0,4)\n",
    "    can = list(population[c])\n",
    "    can[p] = q\n",
    "    population[c]=tuple(can)\n",
    "    return population\n",
    "\n",
    "\n",
    "def fitness(chromosome):\n",
    "    horizontal_collisions = sum([chromosome.count(queen)-1 for queen in chromosome])/2\n",
    "    diagonal_collisions = 0\n",
    "    \n",
    "    for i,j in enumerate(chromosome):\n",
    "        for k in range(1,i):\n",
    "            if abs(i-k)==abs(j-chromosome[k]):\n",
    "                diagonal_collisions+=1\n",
    "    return 1/(1+horizontal_collisions+diagonal_collisions)\n",
    "\n",
    "def population_fitness(chromosomes):\n",
    "    pop_fitness = [fitness(x) for x in chromosomes]\n",
    "    return pop_fitness\n",
    "\n",
    "\n",
    "population = initial_population(50)\n",
    "gen = 0\n",
    "while gen < 100 : \n",
    "    pop_fitness = population_fitness(population)\n",
    "    #print(population)\n",
    "    sorted_pop = [x for x,y in sorted(zip(population,pop_fitness),reverse=True)]\n",
    "    sorted_fit = [y for x,y in sorted(zip(population,pop_fitness),reverse=True)]\n",
    "    print(gen,'---->',sorted_pop[0])\n",
    "    if sorted_fit[0]==1:\n",
    "        break;\n",
    "    #print(sorted_pop)\n",
    "    parents = sorted_pop[:5]\n",
    "    children = []\n",
    "    for p1 in parents:\n",
    "        for p2 in parents:\n",
    "            children.extend(crossover(list(p1),list(p2)))\n",
    "    children = mutation(children)\n",
    "    children.extend(parents)\n",
    "    population=children\n",
    "    gen+=1\n",
    "\n",
    "print('Solution : ', sorted_pop[0])\n",
    "print('Fitness : ', sorted_fit[0])"
   ]
  },
  {
   "cell_type": "code",
   "execution_count": 29,
   "id": "660ed061",
   "metadata": {},
   "outputs": [
    {
     "name": "stdout",
     "output_type": "stream",
     "text": [
      "[(1, 1, 3, 2), (1, 1, 3, 1), (1, 1, 2, 4), (1, 1, 2, 3), (1, 1, 2, 2), (1, 1, 2, 1), (1, 1, 1, 4), (1, 1, 1, 3), (1, 1, 1, 2), (1, 1, 1, 1)]\n"
     ]
    }
   ],
   "source": []
  },
  {
   "cell_type": "code",
   "execution_count": 34,
   "id": "878e5fa7",
   "metadata": {},
   "outputs": [
    {
     "name": "stdout",
     "output_type": "stream",
     "text": [
      "[(1, 4, 2, 2), (3, 3, 1, 4), (1, 4, 4, 3), (1, 2, 2, 3), (3, 1, 4, 3), (3, 4, 2, 3), (4, 4, 1, 3), (2, 1, 4, 4), (4, 1, 3, 3), (1, 2, 1, 1), (4, 1, 1, 2), (1, 3, 1, 3), (4, 3, 2, 2), (1, 4, 3, 2), (4, 4, 3, 2), (1, 4, 1, 3), (4, 3, 2, 1), (1, 4, 1, 4), (3, 2, 4, 4), (3, 4, 3, 4), (2, 2, 1, 3), (4, 3, 3, 4), (4, 1, 3, 2), (4, 1, 2, 1), (3, 3, 3, 4), (3, 4, 1, 3), (1, 4, 3, 4), (2, 4, 2, 2), (2, 4, 3, 2), (1, 1, 1, 3), (2, 1, 1, 3), (3, 3, 3, 1), (3, 3, 1, 2), (1, 3, 1, 1), (2, 1, 1, 4), (3, 3, 1, 3), (2, 1, 2, 1), (2, 1, 3, 2), (4, 4, 3, 4), (1, 2, 4, 1), (1, 1, 2, 1), (2, 3, 2, 1), (2, 3, 2, 4), (3, 1, 3, 2), (4, 2, 2, 2), (1, 4, 4, 4), (3, 4, 4, 1), (1, 4, 1, 1), (1, 3, 2, 2), (3, 1, 1, 1), (3, 3, 4, 4), (2, 4, 1, 1), (2, 1, 2, 3), (3, 1, 4, 1), (4, 2, 3, 2), (1, 3, 1, 4), (2, 4, 1, 2), (4, 1, 4, 3), (3, 4, 3, 1), (4, 3, 1, 3), (1, 1, 1, 1), (4, 3, 3, 3), (3, 3, 2, 3), (3, 2, 4, 3), (4, 2, 4, 1), (3, 4, 2, 2), (3, 1, 3, 1), (3, 3, 3, 2), (1, 4, 1, 2), (3, 2, 3, 3), (4, 4, 4, 3), (3, 2, 2, 4), (2, 3, 4, 4), (2, 2, 3, 2), (1, 3, 3, 4), (3, 4, 3, 3), (1, 1, 3, 4), (1, 2, 4, 4), (3, 2, 4, 1), (2, 4, 4, 1), (1, 2, 2, 2), (3, 2, 1, 4), (4, 1, 1, 4), (4, 2, 1, 3), (2, 3, 4, 3), (3, 2, 2, 1), (1, 4, 2, 4), (2, 2, 4, 2), (4, 1, 2, 3), (1, 4, 2, 1), (1, 1, 3, 1), (2, 2, 3, 4), (4, 2, 1, 2), (3, 2, 1, 3), (2, 3, 3, 2), (2, 4, 3, 1), (3, 4, 1, 2), (1, 4, 3, 1), (3, 2, 4, 2), (1, 2, 3, 4), (3, 1, 4, 4), (3, 2, 2, 3), (4, 2, 2, 3), (4, 2, 3, 1), (1, 1, 1, 4), (3, 4, 2, 4), (2, 2, 2, 4), (2, 4, 3, 3), (1, 4, 4, 1), (4, 2, 3, 3), (4, 4, 4, 1), (1, 4, 3, 3), (2, 3, 3, 1), (4, 2, 1, 4), (1, 3, 2, 4), (2, 3, 2, 3), (1, 1, 1, 2), (3, 2, 2, 2), (3, 4, 4, 4), (1, 2, 4, 2), (2, 1, 4, 1), (2, 1, 1, 1), (1, 2, 3, 2), (2, 2, 2, 3), (1, 2, 4, 3), (2, 1, 2, 4), (3, 4, 2, 1), (1, 3, 3, 3), (1, 4, 4, 2), (3, 1, 1, 4), (3, 1, 2, 4), (4, 1, 1, 3), (1, 1, 2, 4), (2, 4, 2, 4), (2, 2, 1, 1), (4, 1, 3, 4), (3, 3, 3, 3), (1, 3, 2, 3), (4, 4, 4, 2), (4, 4, 3, 3), (2, 2, 1, 4), (2, 1, 2, 2), (2, 3, 1, 3), (2, 1, 3, 4), (2, 4, 1, 3), (1, 2, 3, 1), (1, 4, 2, 3), (1, 1, 2, 3), (3, 3, 2, 2), (1, 2, 2, 4), (2, 3, 4, 1), (1, 3, 4, 2), (4, 2, 2, 1), (4, 3, 3, 1), (4, 3, 4, 3), (3, 1, 1, 3), (4, 1, 1, 1), (4, 3, 3, 2), (3, 4, 1, 4), (1, 1, 4, 3), (4, 3, 4, 4), (4, 3, 2, 3), (2, 2, 4, 1), (3, 2, 3, 2), (3, 1, 2, 2), (3, 4, 3, 2), (3, 1, 1, 2), (3, 3, 4, 3), (1, 2, 2, 1), (2, 3, 2, 2), (2, 1, 3, 1), (1, 3, 3, 1), (1, 1, 4, 1), (3, 2, 3, 1), (2, 1, 4, 3), (4, 3, 1, 2), (2, 2, 1, 2), (2, 1, 1, 2), (4, 2, 4, 2), (2, 2, 2, 2), (1, 3, 4, 3), (2, 4, 4, 3), (4, 1, 3, 1), (2, 4, 4, 4), (4, 1, 4, 2), (1, 2, 1, 4), (4, 4, 1, 4), (3, 3, 4, 2), (4, 1, 2, 2), (1, 3, 1, 2), (1, 1, 3, 2), (3, 3, 2, 1), (3, 2, 3, 4), (3, 1, 2, 3), (3, 1, 2, 1), (3, 4, 1, 1), (1, 1, 4, 4), (2, 2, 3, 3), (3, 2, 1, 2), (4, 4, 4, 4), (3, 1, 4, 2), (2, 3, 3, 4), (4, 4, 3, 1), (3, 3, 4, 1), (2, 3, 1, 4), (4, 3, 4, 1), (3, 4, 4, 2), (4, 4, 1, 1), (4, 1, 2, 4), (2, 3, 3, 3), (4, 1, 4, 1), (2, 4, 4, 2), (2, 4, 2, 3), (3, 3, 2, 4), (1, 1, 4, 2), (2, 3, 4, 2), (2, 4, 1, 4), (2, 2, 4, 3), (1, 3, 2, 1), (3, 2, 1, 1), (1, 1, 3, 3), (4, 2, 3, 4), (3, 4, 4, 3), (4, 2, 4, 3), (4, 2, 1, 1), (3, 1, 3, 4), (2, 4, 2, 1), (4, 1, 4, 4), (4, 2, 2, 4), (2, 4, 3, 4), (2, 1, 3, 3), (4, 4, 2, 2), (4, 4, 2, 3), (4, 3, 1, 1), (1, 2, 3, 3), (4, 3, 1, 4), (4, 4, 2, 1), (3, 3, 1, 1), (3, 1, 3, 3), (4, 4, 2, 4), (1, 3, 4, 4), (2, 3, 1, 1), (2, 3, 1, 2), (2, 2, 4, 4), (4, 2, 4, 4), (1, 1, 2, 2), (2, 1, 4, 2), (1, 3, 4, 1), (4, 4, 1, 2), (1, 3, 3, 2), (1, 2, 1, 3), (4, 3, 2, 4), (2, 2, 3, 1), (1, 2, 1, 2), (2, 2, 2, 1), (4, 3, 4, 2)]\n"
     ]
    }
   ],
   "source": [
    "import random\n",
    "chromosome =  [1,2,3,4]\n",
    "chromosomes = list(itertools.product(chromosome,repeat = 4))\n",
    "random.shuffle(chromosomes)\n",
    "print(chromosomes)"
   ]
  },
  {
   "cell_type": "code",
   "execution_count": null,
   "id": "71c3def5",
   "metadata": {},
   "outputs": [],
   "source": []
  }
 ],
 "metadata": {
  "kernelspec": {
   "display_name": "Python 3",
   "language": "python",
   "name": "python3"
  },
  "language_info": {
   "codemirror_mode": {
    "name": "ipython",
    "version": 3
   },
   "file_extension": ".py",
   "mimetype": "text/x-python",
   "name": "python",
   "nbconvert_exporter": "python",
   "pygments_lexer": "ipython3",
   "version": "3.8.5"
  }
 },
 "nbformat": 4,
 "nbformat_minor": 5
}
